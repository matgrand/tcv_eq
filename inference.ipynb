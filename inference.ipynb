{
 "cells": [
  {
   "cell_type": "code",
   "execution_count": null,
   "id": "becfa06e",
   "metadata": {},
   "outputs": [
    {
     "name": "stdout",
     "output_type": "stream",
     "text": [
      "loading data/local/best_mse.pth\n"
     ]
    }
   ],
   "source": [
    "import torch\n",
    "from utils import *\n",
    "\n",
    "model_path = 'data/local/best_mse.pth'\n",
    "\n",
    "net = LiuqeNet()\n",
    "test_network_io(verbose=False)\n",
    "print(f'loading {model_path}')\n",
    "net.load_state_dict(torch.load(model_path, map_location='cpu'), strict=True)\n",
    "net.eval()\n",
    "\n",
    "torch.jit.script(net).save(\"net.pt\")\n",
    "print(\"net.pt saved\")"
   ]
  }
 ],
 "metadata": {
  "kernelspec": {
   "display_name": "Python 3",
   "language": "python",
   "name": "python3"
  },
  "language_info": {
   "codemirror_mode": {
    "name": "ipython",
    "version": 3
   },
   "file_extension": ".py",
   "mimetype": "text/x-python",
   "name": "python",
   "nbconvert_exporter": "python",
   "pygments_lexer": "ipython3",
   "version": "3.13.3"
  }
 },
 "nbformat": 4,
 "nbformat_minor": 5
}
