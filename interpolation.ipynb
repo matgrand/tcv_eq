{
 "cells": [
  {
   "cell_type": "markdown",
   "id": "d1afe857",
   "metadata": {},
   "source": [
    "## Notebook to explore interpolation methods and accuracy"
   ]
  },
  {
   "cell_type": "code",
   "execution_count": 1,
   "id": "f98db390",
   "metadata": {},
   "outputs": [
    {
     "name": "stdout",
     "output_type": "stream",
     "text": [
      "Running JOBID: local, on mps, GPU_MEM: 17.18 GB\n"
     ]
    }
   ],
   "source": [
    "from utils import *\n",
    "from tqdm import tqdm\n",
    "from os.path import join, exists\n",
    "\n",
    "RAW_DIR = 'raw_ds' if LOCAL else '/nfsd/automatica/grandinmat/raw_ds' # where the raw data is stored\n"
   ]
  },
  {
   "cell_type": "code",
   "execution_count": 5,
   "id": "22427da6",
   "metadata": {},
   "outputs": [
    {
     "name": "stdout",
     "output_type": "stream",
     "text": [
      "Loading data...\n",
      "Found 500 files.\n"
     ]
    },
    {
     "name": "stderr",
     "output_type": "stream",
     "text": [
      "Loading files: 100%|██████████| 500/500 [00:02<00:00, 182.19file/s]\n"
     ]
    },
    {
     "name": "stdout",
     "output_type": "stream",
     "text": [
      "Loaded 500 files.\n",
      "---------------------------------------------------\n",
      "---------------------------------------------------\n",
      "Calculating BR and BZ...\n",
      "Bm0 -> shape: (50394, 38), dtype: float32\n",
      "Ff0 -> shape: (50394, 38), dtype: float32\n",
      "Ft0 -> shape: (50394, 1), dtype: float32\n",
      "Ia0 -> shape: (50394, 19), dtype: float32\n",
      "Ip0 -> shape: (50394, 1), dtype: float32\n",
      "Iu0 -> shape: (50394, 38), dtype: float32\n",
      "rBt0 -> shape: (50394, 1), dtype: float32\n",
      "Fx -> shape: (50394, 65, 28), dtype: float32\n",
      "Iy -> shape: (50394, 63, 26), dtype: float32\n",
      "Br -> shape: (50394, 65, 28), dtype: float32\n",
      "Bz -> shape: (50394, 65, 28), dtype: float32\n",
      "rq -> shape: (50394, 129), dtype: float32\n",
      "zq -> shape: (50394, 129), dtype: float32\n"
     ]
    }
   ],
   "source": [
    "# load the data\n",
    "print(\"Loading data...\")\n",
    "\n",
    "# list all the files inside RAW_DIR/ds\n",
    "files = sorted([f for f in os.listdir(RAW_DIR) if f.endswith('.mat')])\n",
    "print(f'Found {len(files)} files.')\n",
    "vals = {n:[] for n in DS_NAMES}  # dictionary to hold the numpy arrays\n",
    "files_iter = tqdm(files, desc=\"Loading files\", unit=\"file\") if LOCAL else files\n",
    "for f in files_iter:\n",
    "    try:\n",
    "        d = loadmat(join(RAW_DIR, f))\n",
    "        for n in DS_NAMES: assert n in list(d.keys()) or n in [BR, BZ], f'Key {n} not found in {f}' \n",
    "        t = d['t'].flatten()  # time\n",
    "        nt = t.shape[0]  # number of time points\n",
    "        for n in DS_NAMES:\n",
    "            if n in [BR, BZ]: continue  # skip BR and BZ for now, they will be calculated later\n",
    "            v = d[n] # get the variable\n",
    "            v = v.reshape((*DS_SIZES[n], nt)) # try to reshape it to the expected shape\n",
    "            assert v.shape == (*DS_SIZES[n], nt), f'Variable {n} shape mismatch: {v.shape} != {((*DS_SIZES[n], nt))}'\n",
    "            assert not np.isnan(v).any(), f'Variable {n} contains NaN values in {f}'\n",
    "            assert np.isfinite(v).all(), f'Variable {n} contains infinite values in {f}'\n",
    "            vals[n].append(v)  # append to the list\n",
    "    except Exception as e:\n",
    "        print(f'Error loading {f}: {e}')\n",
    "        continue\n",
    "\n",
    "print(f'Loaded {len(vals[FX])} files.')\n",
    "assert len(vals[FX]) > 0, f'No samples: {len(vals[FX])}'\n",
    "\n",
    "# convert lists to numpy arrays\n",
    "print('---------------------------------------------------')\n",
    "for n in DS_NAMES:\n",
    "    if n in [BR, BZ]: continue  # skip BR and BZ for now, they will be calculated later\n",
    "    vals[n] = np.concatenate(vals[n], axis=-1).astype(DTYPE)  # concatenate along the first dimension and convert to DTYPE\n",
    "    sh, ndim = vals[n].shape, vals[n].ndim\n",
    "    vals[n] = vals[n].transpose(ndim-1, *range(ndim-1))  # move the last dimension to the first\n",
    "    # print(f'{n} -> shape: {vals[n].shape}, dtype: {vals[n].dtype}')  # print the shape and dtype of the variable\n",
    "print('---------------------------------------------------')\n",
    "\n",
    "\n",
    "# calculate BR and BZ from Fx\n",
    "print('Calculating BR and BZ...') # TODO: this can be done using 2d convolutions\n",
    "vals[BR], vals[BZ] = meqBrBz(vals[FX])\n",
    "\n",
    "for n in DS_NAMES: print(f'{n} -> shape: {vals[n].shape}, dtype: {vals[n].dtype}')  # print the shape and dtype of the variable\n",
    "for n in INPUT_NAMES: assert vals[n].ndim == 2, f'Variable {n} is not 2D: {vals[n].ndim}'"
   ]
  },
  {
   "cell_type": "code",
   "execution_count": null,
   "id": "eb4056b7",
   "metadata": {},
   "outputs": [
    {
     "ename": "AssertionError",
     "evalue": "pts.ndim = 3, pts.shape = (845, 364, 2)",
     "output_type": "error",
     "traceback": [
      "\u001b[0;31m---------------------------------------------------------------------------\u001b[0m",
      "\u001b[0;31mAssertionError\u001b[0m                            Traceback (most recent call last)",
      "Cell \u001b[0;32mIn[275], line 53\u001b[0m\n\u001b[1;32m     51\u001b[0m rrf, zzf \u001b[38;5;241m=\u001b[39m np\u001b[38;5;241m.\u001b[39mmeshgrid(rf, zf)  \u001b[38;5;66;03m# radial and vertical grid for the finer grid\u001b[39;00m\n\u001b[1;32m     52\u001b[0m rzf \u001b[38;5;241m=\u001b[39m np\u001b[38;5;241m.\u001b[39mstack((rrf, zzf), axis\u001b[38;5;241m=\u001b[39m\u001b[38;5;241m-\u001b[39m\u001b[38;5;241m1\u001b[39m)  \u001b[38;5;66;03m# stack to get the points\u001b[39;00m\n\u001b[0;32m---> 53\u001b[0m Fxf \u001b[38;5;241m=\u001b[39m \u001b[43minterp_pts\u001b[49m\u001b[43m(\u001b[49m\u001b[43mFx\u001b[49m\u001b[43m,\u001b[49m\u001b[43m \u001b[49m\u001b[43mrzf\u001b[49m\u001b[43m,\u001b[49m\u001b[43m \u001b[49m\u001b[43mgr\u001b[49m\u001b[38;5;241;43m=\u001b[39;49m\u001b[43mRRD\u001b[49m\u001b[43m[\u001b[49m\u001b[38;5;241;43m0\u001b[39;49m\u001b[43m,\u001b[49m\u001b[43m:\u001b[49m\u001b[43m]\u001b[49m\u001b[43m,\u001b[49m\u001b[43m \u001b[49m\u001b[43mgz\u001b[49m\u001b[38;5;241;43m=\u001b[39;49m\u001b[43mZZD\u001b[49m\u001b[43m[\u001b[49m\u001b[43m:\u001b[49m\u001b[43m,\u001b[49m\u001b[38;5;241;43m0\u001b[39;49m\u001b[43m]\u001b[49m\u001b[43m,\u001b[49m\u001b[43m \u001b[49m\u001b[43mmethod\u001b[49m\u001b[38;5;241;43m=\u001b[39;49m\u001b[43mquint\u001b[49m\u001b[43m)\u001b[49m\n\u001b[1;32m     54\u001b[0m Brf, Bzf \u001b[38;5;241m=\u001b[39m meqBrBz(Fxf, rr\u001b[38;5;241m=\u001b[39mrrf, zz\u001b[38;5;241m=\u001b[39mzzf)  \u001b[38;5;66;03m# calculate Br, Bz from the flux map\u001b[39;00m\n\u001b[1;32m     56\u001b[0m \u001b[38;5;66;03m# plt.figure(figsize=(12, 12))\u001b[39;00m\n",
      "File \u001b[0;32m~/repos/tcv_eq/utils.py:602\u001b[0m, in \u001b[0;36minterp_pts\u001b[0;34m(f, pts, gr, gz, method)\u001b[0m\n\u001b[1;32m    596\u001b[0m \u001b[38;5;250m\u001b[39m\u001b[38;5;124;03m\"\"\"\u001b[39;00m\n\u001b[1;32m    597\u001b[0m \u001b[38;5;124;03mInterpolate the function f at the points pts using the grid gr, gz.\u001b[39;00m\n\u001b[1;32m    598\u001b[0m \u001b[38;5;124;03mf should be a 2D array with shape (len(gr), len(gz)).\u001b[39;00m\n\u001b[1;32m    599\u001b[0m \u001b[38;5;124;03mpts should be a 2D array with shape (n, 2), where n is the number of points.\u001b[39;00m\n\u001b[1;32m    600\u001b[0m \u001b[38;5;124;03m\"\"\"\u001b[39;00m\n\u001b[1;32m    601\u001b[0m \u001b[38;5;28;01massert\u001b[39;00m f\u001b[38;5;241m.\u001b[39mndim \u001b[38;5;241m==\u001b[39m \u001b[38;5;241m2\u001b[39m, \u001b[38;5;124mf\u001b[39m\u001b[38;5;124m\"\u001b[39m\u001b[38;5;124mf.ndim = \u001b[39m\u001b[38;5;132;01m{\u001b[39;00mf\u001b[38;5;241m.\u001b[39mndim\u001b[38;5;132;01m}\u001b[39;00m\u001b[38;5;124m, f.shape = \u001b[39m\u001b[38;5;132;01m{\u001b[39;00mf\u001b[38;5;241m.\u001b[39mshape\u001b[38;5;132;01m}\u001b[39;00m\u001b[38;5;124m\"\u001b[39m\n\u001b[0;32m--> 602\u001b[0m \u001b[38;5;28;01massert\u001b[39;00m pts\u001b[38;5;241m.\u001b[39mndim \u001b[38;5;241m==\u001b[39m \u001b[38;5;241m2\u001b[39m \u001b[38;5;129;01mand\u001b[39;00m pts\u001b[38;5;241m.\u001b[39mshape[\u001b[38;5;241m1\u001b[39m] \u001b[38;5;241m==\u001b[39m \u001b[38;5;241m2\u001b[39m, \u001b[38;5;124mf\u001b[39m\u001b[38;5;124m\"\u001b[39m\u001b[38;5;124mpts.ndim = \u001b[39m\u001b[38;5;132;01m{\u001b[39;00mpts\u001b[38;5;241m.\u001b[39mndim\u001b[38;5;132;01m}\u001b[39;00m\u001b[38;5;124m, pts.shape = \u001b[39m\u001b[38;5;132;01m{\u001b[39;00mpts\u001b[38;5;241m.\u001b[39mshape\u001b[38;5;132;01m}\u001b[39;00m\u001b[38;5;124m\"\u001b[39m\n\u001b[1;32m    603\u001b[0m interp_func \u001b[38;5;241m=\u001b[39m RegularGridInterpolator((gr, gz), f\u001b[38;5;241m.\u001b[39mT, method\u001b[38;5;241m=\u001b[39mmethod)\n\u001b[1;32m    604\u001b[0m \u001b[38;5;28;01mreturn\u001b[39;00m interp_func(pts)\u001b[38;5;241m.\u001b[39mreshape(\u001b[38;5;241m-\u001b[39m\u001b[38;5;241m1\u001b[39m)\n",
      "\u001b[0;31mAssertionError\u001b[0m: pts.ndim = 3, pts.shape = (845, 364, 2)"
     ]
    }
   ],
   "source": [
    "rand_idx = np.random.randint(0, vals[FX].shape[0], 1)  # random idx\n",
    "# rand_idx = 18796\n",
    "rand_idx = 42278\n",
    "\n",
    "npts = 1213\n",
    "lin = 'linear'\n",
    "quint = 'quintic'\n",
    "zidx = 29\n",
    "r0, r1 = 0.81, 0.86  # radial range\n",
    "rg0, rg1 = RRD[0, 0], RRD[0, -1]  # radial grid range\n",
    "zg0, zg1 = ZZD[0, 0], ZZD[-1, 0]  # vertical grid range\n",
    "\n",
    "pts = np.zeros((npts, 2))\n",
    "r = np.linspace(r0, r1, npts)  # radial points\n",
    "# z = np.linspace(-0.2, 0.2, npts)  # vertical points\n",
    "# z = np.random.uniform(-0.2, 0.2) * np.ones(npts)\n",
    "z = np.ones(npts) * ZZD[zidx, 0]\n",
    "pts[:, 0] = r\n",
    "pts[:, 1] = z\n",
    "\n",
    "Fx = vals[FX][rand_idx,:,:].squeeze()\n",
    "Br = vals[BR][rand_idx,:,:].squeeze()\n",
    "Bz = vals[BZ][rand_idx,:,:].squeeze()\n",
    "\n",
    "# get the points on that z \n",
    "rg = RRD[0,:]  # radial grid\n",
    "Fxg = Fx[zidx,:]  # get the Fx values at the specified z index\n",
    "Brg = Br[zidx,:]  # get the Br values at the specified z index\n",
    "Bzg = Bz[zidx,:]  # get the Bz values at the specified z index\n",
    "# keep only the points in the radial range\n",
    "cond = (rg >= r0) & (rg <= r1)\n",
    "rg = rg[cond]\n",
    "Fxg = Fxg[cond]\n",
    "Brg = Brg[cond]\n",
    "Bzg = Bzg[cond]\n",
    "\n",
    "# interpolate Fx, Br, Bz at the points pts\n",
    "# quintic interpolation\n",
    "Fxq = interp_pts(Fx, pts, gr=RRD[0,:], gz=ZZD[:,0], method=quint)\n",
    "Brq = interp_pts(Br, pts, gr=RRD[0,:], gz=ZZD[:,0], method=quint)\n",
    "Bzq = interp_pts(Bz, pts, gr=RRD[0,:], gz=ZZD[:,0], method=quint)\n",
    "# liner interpolation\n",
    "Fxl = interp_pts(Fx, pts, gr=RRD[0,:], gz=ZZD[:,0], method=lin)\n",
    "Brl = interp_pts(Br, pts, gr=RRD[0,:], gz=ZZD[:,0], method=lin)\n",
    "Bzl = interp_pts(Bz, pts, gr=RRD[0,:], gz=ZZD[:,0], method=lin)\n",
    "\n",
    "# test calculating Br, Bz with a finer grid\n",
    "K = 13\n",
    "rf = np.linspace(rg0, rg1, 28*K)\n",
    "zf = np.linspace(zg0, zg1, 65*K)\n",
    "rrf, zzf = np.meshgrid(rf, zf)  # radial and vertical grid for the finer grid\n",
    "rzf = np.stack((rrf, zzf), axis=-1)  # stack to get the points\n",
    "Fxf = interp_pts(Fx, rzf.reshape(-1,2), gr=RRD[0,:], gz=ZZD[:,0], method=quint)\n",
    "Brf, Bzf = meqBrBz(Fxf, rr=rrf, zz=zzf)  # calculate Br, Bz from the flux map\n",
    "\n",
    "# plt.figure(figsize=(12, 12))\n",
    "plt.figure(figsize=(12, 4))\n",
    "# plt.subplot(3, 1, 1)\n",
    "# plt.scatter(rg, Fxg, label='Fxg')\n",
    "# plt.plot(r, Fxq, label='Fxq', linestyle=':')\n",
    "# plt.plot(r, Fxl, label='Fxl', linestyle=':')\n",
    "# plt.legend()\n",
    "# plt.subplot(3, 1, 2)\n",
    "plt.scatter(rg, Brg, label='Brg')\n",
    "plt.plot(r, Brq, label='Brq', linestyle=':')\n",
    "plt.plot(r, Brl, label='Brl', linestyle=':')\n",
    "plt.plot(rf, Brf[zidx,:], label='Brf', linestyle='--')\n",
    "plt.legend()\n",
    "# plt.subplot(3, 1, 3)\n",
    "# plt.scatter(rg, Bzg, label='Bzg')\n",
    "# plt.plot(r, Bzq, label='Bzq', linestyle=':')\n",
    "# plt.plot(r, Bzl, label='Bzl', linestyle=':')\n",
    "# plt.legend()\n",
    "# plt.suptitle(f'{rand_idx} Interpolation of Fx, Br, Bz at z={ZZD[zidx, 0]:.2f} m')\n",
    "# plt.tight_layout()\n",
    "plt.show()\n",
    "\n",
    "\n"
   ]
  },
  {
   "cell_type": "markdown",
   "id": "c5573e71",
   "metadata": {},
   "source": []
  }
 ],
 "metadata": {
  "kernelspec": {
   "display_name": "ml",
   "language": "python",
   "name": "python3"
  },
  "language_info": {
   "codemirror_mode": {
    "name": "ipython",
    "version": 3
   },
   "file_extension": ".py",
   "mimetype": "text/x-python",
   "name": "python",
   "nbconvert_exporter": "python",
   "pygments_lexer": "ipython3",
   "version": "3.12.11"
  }
 },
 "nbformat": 4,
 "nbformat_minor": 5
}
