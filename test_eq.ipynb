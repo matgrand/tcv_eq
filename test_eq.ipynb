{
 "cells": [
  {
   "cell_type": "code",
   "execution_count": 1,
   "id": "d9e6733c",
   "metadata": {},
   "outputs": [],
   "source": [
    "from scipy.io import loadmat\n",
    "import numpy as np\n",
    "import matplotlib.pyplot as plt\n",
    "plt.style.use('dark_background')"
   ]
  },
  {
   "cell_type": "code",
   "execution_count": 2,
   "id": "0dc4d2d0",
   "metadata": {},
   "outputs": [],
   "source": [
    "SHOT = 85444 # shot number"
   ]
  },
  {
   "cell_type": "code",
   "execution_count": 5,
   "id": "ea15d145",
   "metadata": {},
   "outputs": [
    {
     "ename": "AttributeError",
     "evalue": "'numpy.ndarray' object has no attribute 'keys'",
     "output_type": "error",
     "traceback": [
      "\u001b[31m---------------------------------------------------------------------------\u001b[39m",
      "\u001b[31mAttributeError\u001b[39m                            Traceback (most recent call last)",
      "\u001b[36mCell\u001b[39m\u001b[36m \u001b[39m\u001b[32mIn[5]\u001b[39m\u001b[32m, line 4\u001b[39m\n\u001b[32m      1\u001b[39m \u001b[38;5;66;03m# Load the .mat file\u001b[39;00m\n\u001b[32m      2\u001b[39m L, LX, LY = loadmat(\u001b[33mf\u001b[39m\u001b[33m'\u001b[39m\u001b[33mL_\u001b[39m\u001b[38;5;132;01m{\u001b[39;00mSHOT\u001b[38;5;132;01m}\u001b[39;00m\u001b[33m.mat\u001b[39m\u001b[33m'\u001b[39m), loadmat(\u001b[33mf\u001b[39m\u001b[33m'\u001b[39m\u001b[33mLX_\u001b[39m\u001b[38;5;132;01m{\u001b[39;00mSHOT\u001b[38;5;132;01m}\u001b[39;00m\u001b[33m.mat\u001b[39m\u001b[33m'\u001b[39m), loadmat(\u001b[33mf\u001b[39m\u001b[33m'\u001b[39m\u001b[33mLY_\u001b[39m\u001b[38;5;132;01m{\u001b[39;00mSHOT\u001b[38;5;132;01m}\u001b[39;00m\u001b[33m.mat\u001b[39m\u001b[33m'\u001b[39m)[\u001b[33m'\u001b[39m\u001b[33mLY\u001b[39m\u001b[33m'\u001b[39m]\n\u001b[32m----> \u001b[39m\u001b[32m4\u001b[39m \u001b[38;5;28mprint\u001b[39m(\u001b[43mLY\u001b[49m\u001b[43m.\u001b[49m\u001b[43mkeys\u001b[49m()) \u001b[38;5;66;03m# Check the keys in the loaded dictionary\u001b[39;00m\n\u001b[32m      7\u001b[39m Fx = LY[\u001b[33m'\u001b[39m\u001b[33mFx\u001b[39m\u001b[33m'\u001b[39m]\n\u001b[32m      8\u001b[39m \u001b[38;5;28mprint\u001b[39m(Fx.shape) \u001b[38;5;66;03m# Check the shape of Fx\u001b[39;00m\n",
      "\u001b[31mAttributeError\u001b[39m: 'numpy.ndarray' object has no attribute 'keys'"
     ]
    }
   ],
   "source": [
    "# Load the .mat file\n",
    "L, LX, LY = loadmat(f'L_{SHOT}.mat'), loadmat(f'LX_{SHOT}.mat'), loadmat(f'LY_{SHOT}.mat')['LY']\n",
    "\n",
    "print(LY.keys()) # Check the keys in the loaded dictionary\n",
    "\n",
    "\n",
    "Fx = LY['Fx']\n",
    "print(Fx.shape) # Check the shape of Fx\n",
    "\n",
    "# Fx is a 2d heatmap. plot it\n",
    "plt.figure(figsize=(10, 8))\n",
    "plt.imshow(Fx, cmap='inferno')\n",
    "plt.colorbar(label='Fx value')\n",
    "plt.title('Heatmap of Fx')\n",
    "plt.show()"
   ]
  }
 ],
 "metadata": {
  "kernelspec": {
   "display_name": "base",
   "language": "python",
   "name": "python3"
  },
  "language_info": {
   "codemirror_mode": {
    "name": "ipython",
    "version": 3
   },
   "file_extension": ".py",
   "mimetype": "text/x-python",
   "name": "python",
   "nbconvert_exporter": "python",
   "pygments_lexer": "ipython3",
   "version": "3.11.11"
  }
 },
 "nbformat": 4,
 "nbformat_minor": 5
}
