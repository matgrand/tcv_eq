{
 "cells": [
  {
   "cell_type": "code",
   "execution_count": null,
   "id": "d9e6733c",
   "metadata": {},
   "outputs": [],
   "source": [
    "import scipy.io\n",
    "import numpy as np\n",
    "import matplotlib.pyplot as plt"
   ]
  },
  {
   "cell_type": "code",
   "execution_count": null,
   "id": "ea15d145",
   "metadata": {},
   "outputs": [],
   "source": [
    "# Load the .mat file\n",
    "data = scipy.io.loadmat('eq.mat')\n",
    "\n",
    "# Extract the variables\n",
    "Fx = data['Fx']\n",
    "print(Fx.shape)\n",
    "\n",
    "# Fx is a 2d heatmap. plot it\n",
    "plt.figure(figsize=(10, 8))\n",
    "plt.imshow(Fx, cmap='hot', interpolation='nearest')\n",
    "plt.colorbar(label='Fx value')\n",
    "plt.title('Heatmap of Fx')\n",
    "plt.show()"
   ]
  }
 ],
 "metadata": {
  "kernelspec": {
   "display_name": "Python 3",
   "language": "python",
   "name": "python3"
  },
  "language_info": {
   "codemirror_mode": {
    "name": "ipython",
    "version": 3
   },
   "file_extension": ".py",
   "mimetype": "text/x-python",
   "name": "python",
   "nbconvert_exporter": "python",
   "pygments_lexer": "ipython3",
   "version": "3.13.2"
  }
 },
 "nbformat": 4,
 "nbformat_minor": 5
}
