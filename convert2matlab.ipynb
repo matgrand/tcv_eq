{
 "cells": [
  {
   "cell_type": "markdown",
   "id": "f25c3793",
   "metadata": {},
   "source": [
    "# Convert from pytorch to C++/Matlab\n",
    "Convert the net so it can be loaded by pytorch c++ inference. "
   ]
  },
  {
   "cell_type": "code",
   "execution_count": null,
   "id": "becfa06e",
   "metadata": {},
   "outputs": [],
   "source": [
    "import torch\n",
    "from utils import *\n",
    "\n",
    "model_path = 'data/local/best_mse.pth'\n",
    "\n",
    "net = LiuqeNet()\n",
    "test_network_io(verbose=False)\n",
    "print(f'loading {model_path}')\n",
    "net.load_state_dict(torch.load(model_path, map_location='cpu'), strict=True)\n",
    "net.eval()\n",
    "\n",
    "torch.jit.script(net).save('net.pt')\n",
    "print('net.pt saved')"
   ]
  },
  {
   "cell_type": "code",
   "execution_count": null,
   "id": "2f841746",
   "metadata": {},
   "outputs": [],
   "source": [
    "# create an example small ds and test inference on it to verify the conversion later\n",
    "import numpy as np\n",
    "from scipy.io import savemat\n",
    "ds = LiuqeDataset(EVAL_DS_PATH, verbose=False)\n",
    "\n",
    "ni = 5 # number of samples\n",
    "\n",
    "xs, _, rs, zs = ds[np.random.randint(0, len(ds), ni)] # inputs\n",
    "ys = net(xs, rs, zs) # outputs\n",
    "\n",
    "print(f'torch -> xs: {xs.shape}, ys: {ys.shape}, rs: {rs.shape}, zs: {zs.shape}')\n",
    "\n",
    "xs, ys, rs, zs = xs.numpy(), ys.detach().numpy().reshape(-1,NGR*NGZ), rs.numpy(), zs.numpy()\n",
    "print(f'numpy -> xs: {xs.shape}, ys: {ys.shape}, rs: {rs.shape}, zs: {zs.shape}')\n",
    "\n",
    "# print the values to a txt files to compare them later\n",
    "with open(f'{TEST_DIR}/test_inference.txt', 'w') as f:\n",
    "    f.write('xs:\\n')\n",
    "    for x in xs: \n",
    "        f.write(' [')\n",
    "        for xi in x: f.write(f' {xi:+.4f}')\n",
    "        f.write(' ]\\n')\n",
    "    f.write('ys:\\n')\n",
    "    for y in ys: \n",
    "        f.write(' [')\n",
    "        for i in range(NGR*NGZ): \n",
    "            if i%NGR == 0 and i!=0: f.write(' ] [')\n",
    "            f.write(f' {y[i]:+.4f}')\n",
    "        f.write(' ]\\n')\n",
    "    f.write('rs:\\n')\n",
    "    for r in rs: \n",
    "        f.write(' [')\n",
    "        for ri in r: f.write(f' {ri:+.4f}')\n",
    "        f.write(' ]\\n')\n",
    "    f.write('zs:\\n')\n",
    "    for z in zs: \n",
    "        f.write(' [')\n",
    "        for zi in z: f.write(f' {zi:+.4f}')\n",
    "        f.write(' ]\\n')\n",
    "\n",
    "# print the first ns samples of each vector\n",
    "ns = 5\n",
    "np.set_printoptions(precision=4, suppress=True, sign='+')\n",
    "print(f'x -> {xs[0,:ns]}')\n",
    "print(f'y -> {ys[0,:ns]}')\n",
    "print(f'r -> {rs[0,:ns]}')\n",
    "print(f'z -> {zs[0,:ns]}')\n",
    "\n",
    "# save the data to a .mat file for later comparison\n",
    "savemat(f'{TEST_DIR}/test_inference.mat', {'xs': xs, 'ys': ys, 'rs': rs, 'zs': zs})"
   ]
  }
 ],
 "metadata": {
  "kernelspec": {
   "display_name": "Python 3",
   "language": "python",
   "name": "python3"
  },
  "language_info": {
   "codemirror_mode": {
    "name": "ipython",
    "version": 3
   },
   "file_extension": ".py",
   "mimetype": "text/x-python",
   "name": "python",
   "nbconvert_exporter": "python",
   "pygments_lexer": "ipython3",
   "version": "3.13.3"
  }
 },
 "nbformat": 4,
 "nbformat_minor": 5
}
