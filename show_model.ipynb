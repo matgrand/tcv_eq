{
 "cells": [
  {
   "cell_type": "code",
   "execution_count": null,
   "id": "e41c9ccd",
   "metadata": {},
   "outputs": [],
   "source": [
    "from utils import *\n",
    "# BEST_MODEL_DIR = BEST_MODEL_DIR\n",
    "# BEST_MODEL_DIR = 'data/2637759/'\n",
    "# BEST_MODEL_DIR = 'data/2637760/'\n",
    "# BEST_MODEL_DIR = 'data/2637771/'\n",
    "# BEST_MODEL_DIR = 'data/2637772/'\n",
    "\n",
    "net_path = model_path(FX, BEST_MODEL_DIR)\n",
    "\n",
    "N_PLOTS = 10 # number of plots to generate, actually a multiplier\n",
    "\n",
    "ds = LiuqeDataset(EVAL_DS_PATH)\n",
    "\n",
    "x_mean_std = to_tensor(np.load(f'{BEST_MODEL_DIR}/x_mean_std.npz')['x_mean_std']) # load normalization parameters\n",
    "\n",
    "m = FullNet(InputNet(x_mean_std), PtsEncoder(), FHead(3), FHead(1), LCFSHead())\n",
    "m.load_state_dict(torch.load(net_path, map_location=torch.device(\"cpu\"))) # load pretrained model\n",
    "\n",
    "lcfs = LCFSNet(m.input_net, m.lcfs_head) # initialize LCFS model\n",
    "\n",
    "for i in range(N_PLOTS): plot_network_outputs(ds, m, title=f'TEST {i}') # plot network outputs\n",
    "\n",
    "for i in range(N_PLOTS): plot_lcfs_net_out(ds, lcfs, title=f'TEST {i}') # plot LCFS outputs"
   ]
  },
  {
   "cell_type": "code",
   "execution_count": null,
   "id": "3b679d1b",
   "metadata": {},
   "outputs": [],
   "source": [
    "# convert model to onnx\n",
    "rt_net = LiuqeRTNet(m.input_net, m.pts_enc, m.rt_head)\n",
    "rt_net.eval()\n",
    "# convert_to_onnx_static(rt_net, save_dir=[BEST_MODEL_DIR, SAVE_DIR])\n",
    "convert_to_onnx_dyn(rt_net, save_dir=[BEST_MODEL_DIR, SAVE_DIR])"
   ]
  },
  {
   "cell_type": "code",
   "execution_count": null,
   "id": "e30d2b77",
   "metadata": {},
   "outputs": [],
   "source": [
    "# test the model on the demo dataset\n",
    "d = np.load(f'{DS_DIR}/demo.npz')\n",
    "n_examples = d[PTS].shape[0]\n",
    "n_pts = d[PTS].shape[1]\n",
    "n_ctrl_pts = 25\n",
    "\n",
    "rand_i = 0\n",
    "\n",
    "phys = d[PHYS][rand_i]\n",
    "r = d[PTS][rand_i, :n_ctrl_pts, 0]\n",
    "z = d[PTS][rand_i, :n_ctrl_pts, 1]\n",
    "\n",
    "pyhs, r, z = to_tensor(phys), to_tensor(r), to_tensor(z)\n",
    "rt = rt_net(pyhs, r, z)\n",
    "\n",
    "Fx_pred, Br_pred, Bz_pred = rt[:,0].detach().cpu().numpy(), rt[:, 1].detach().cpu().numpy(), rt[:, 2].detach().cpu().numpy()\n",
    "Fx_true, Br_true, Bz_true = d[FX][rand_i], d[BR][rand_i], d[BZ][rand_i]\n",
    "\n",
    "k = 8\n",
    "np.set_printoptions(precision=4, suppress=True, linewidth=1000)\n",
    "print(f'Fx_pred -> {Fx_pred[:k]}\\nFx_true -> {Fx_true[:k]}')\n",
    "print(f'Br_pred -> {Br_pred[:k]}\\nBr_true -> {Br_true[:k]}')\n",
    "print(f'Bz_pred -> {Bz_pred[:k]}\\nBz_true -> {Bz_true[:k]}')"
   ]
  }
 ],
 "metadata": {
  "kernelspec": {
   "display_name": "ml",
   "language": "python",
   "name": "python3"
  },
  "language_info": {
   "codemirror_mode": {
    "name": "ipython",
    "version": 3
   },
   "file_extension": ".py",
   "mimetype": "text/x-python",
   "name": "python",
   "nbconvert_exporter": "python",
   "pygments_lexer": "ipython3",
   "version": "3.13.3"
  }
 },
 "nbformat": 4,
 "nbformat_minor": 5
}
