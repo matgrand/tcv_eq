{
 "cells": [
  {
   "cell_type": "code",
   "execution_count": null,
   "id": "e41c9ccd",
   "metadata": {},
   "outputs": [],
   "source": [
    "from utils import *\n",
    "# BEST_MODEL_DIR = BEST_MODEL_DIR\n",
    "# BEST_MODEL_DIR = 'data/2637759/'\n",
    "# BEST_MODEL_DIR = 'data/2637760/'\n",
    "# BEST_MODEL_DIR = 'data/2637771/'\n",
    "# BEST_MODEL_DIR = 'data/2637772/'\n",
    "\n",
    "net_path = model_path(FX, BEST_MODEL_DIR)\n",
    "\n",
    "N_PLOTS = 1 # number of plots to generate, actually a multiplier\n",
    "\n",
    "ds = LiuqeDataset(EVAL_DS_PATH)\n",
    "\n",
    "x_mean_std = to_tensor(np.load(f'{BEST_MODEL_DIR}/x_mean_std.npz')['x_mean_std'])\n",
    "\n",
    "m = FullNet(InputNet(x_mean_std), PtsEncoder(), FHead(3), FHead(1), LCFSHead())\n",
    "m.load_state_dict(torch.load(net_path, map_location=torch.device(\"cpu\"))) # load pretrained model\n",
    "\n",
    "lcfs = LCFSNet(m.input_net, m.lcfs_head) # initialize LCFS model\n",
    "\n",
    "for i in range(N_PLOTS): plot_network_outputs(ds, m, title=f'TEST {i}') # plot network outputs\n",
    "\n",
    "for i in range(N_PLOTS): plot_lcfs_net_out(ds, lcfs, title=f'TEST {i}') # plot LCFS outputs"
   ]
  },
  {
   "cell_type": "code",
   "execution_count": null,
   "id": "e30d2b77",
   "metadata": {},
   "outputs": [],
   "source": [
    "# # convert model to onnx\n",
    "rt = LiuqeRTNet(m.input_net, m.pts_enc, m.rt_head)\n",
    "# convert_to_onnx_static(rt, BEST_MODEL_DIR)\n",
    "convert_to_onnx_dyn(rt, BEST_MODEL_DIR)"
   ]
  }
 ],
 "metadata": {
  "kernelspec": {
   "display_name": "ml",
   "language": "python",
   "name": "python3"
  },
  "language_info": {
   "codemirror_mode": {
    "name": "ipython",
    "version": 3
   },
   "file_extension": ".py",
   "mimetype": "text/x-python",
   "name": "python",
   "nbconvert_exporter": "python",
   "pygments_lexer": "ipython3",
   "version": "3.13.3"
  }
 },
 "nbformat": 4,
 "nbformat_minor": 5
}
