{
 "cells": [
  {
   "cell_type": "code",
   "execution_count": null,
   "id": "e41c9ccd",
   "metadata": {},
   "outputs": [],
   "source": [
    "from utils import *\n",
    "# CURR_EVAL_MODEL = CURR_EVAL_MODEL\n",
    "# CURR_EVAL_MODEL = 'data/2637759/best_l3.pth'\n",
    "# CURR_EVAL_MODEL = 'data/2637760/best_l3.pth'\n",
    "# CURR_EVAL_MODEL = 'data/2637771/best_l3.pth'\n",
    "# CURR_EVAL_MODEL = 'data/2637772/best_l3.pth'\n",
    "\n",
    "N_PLOTS = 20\n",
    "\n",
    "ds = LiuqeDataset(EVAL_DS_PATH)\n",
    "\n",
    "m = LiuqeNet(InputNet(), GridNet(), FluxHead(), FluxHead(), LCFSHead()) # initialize model\n",
    "m.load_state_dict(torch.load(CURR_EVAL_MODEL, map_location=torch.device(\"cpu\"))) # load pretrained model\n",
    "\n",
    "for i in range(N_PLOTS): plot_network_outputs(ds, m, title=f'TEST {i}') # plot network outputs"
   ]
  }
 ],
 "metadata": {
  "kernelspec": {
   "display_name": "ml",
   "language": "python",
   "name": "python3"
  },
  "language_info": {
   "codemirror_mode": {
    "name": "ipython",
    "version": 3
   },
   "file_extension": ".py",
   "mimetype": "text/x-python",
   "name": "python",
   "nbconvert_exporter": "python",
   "pygments_lexer": "ipython3",
   "version": "3.12.10"
  }
 },
 "nbformat": 4,
 "nbformat_minor": 5
}
