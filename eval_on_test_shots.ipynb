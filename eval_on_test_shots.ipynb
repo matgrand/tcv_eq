{
 "cells": [
  {
   "cell_type": "markdown",
   "id": "7fb5b5e0",
   "metadata": {},
   "source": [
    "# This notebook is to evaluate network performance on test shots"
   ]
  },
  {
   "cell_type": "code",
   "execution_count": null,
   "id": "20d75ed5",
   "metadata": {},
   "outputs": [],
   "source": [
    "# imports\n",
    "import numpy as np\n",
    "from scipy.io import loadmat\n",
    "import matplotlib.pyplot as plt\n",
    "import os"
   ]
  },
  {
   "cell_type": "code",
   "execution_count": null,
   "id": "27ab5fe6",
   "metadata": {},
   "outputs": [],
   "source": [
    "# let's first see the shots\n",
    "SHOTS_DIR = 'test_shots'\n",
    "# list all the files inside\n",
    "shot_files = os.listdir(SHOTS_DIR)\n",
    "names = [f.split('.')[0] for f in shot_files if f.endswith('.mat')]\n",
    "print(f'Found {len(names)} shots: {names}')\n",
    "\n",
    "for shot in shot_files:\n",
    "    d = loadmat(os.path.join(SHOTS_DIR, shot))\n",
    "    vars = [k for k in d.keys() if not k.startswith('__')]\n",
    "    # for each var, print the dimensions\n",
    "    for var in vars: print(f'{var}: {d[var].shape}')"
   ]
  }
 ],
 "metadata": {
  "kernelspec": {
   "display_name": "Python 3",
   "language": "python",
   "name": "python3"
  },
  "language_info": {
   "codemirror_mode": {
    "name": "ipython",
    "version": 3
   },
   "file_extension": ".py",
   "mimetype": "text/x-python",
   "name": "python",
   "nbconvert_exporter": "python",
   "pygments_lexer": "ipython3",
   "version": "3.13.5"
  }
 },
 "nbformat": 4,
 "nbformat_minor": 5
}
